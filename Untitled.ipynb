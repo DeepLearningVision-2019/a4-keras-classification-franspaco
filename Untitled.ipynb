{
 "cells": [
  {
   "cell_type": "code",
   "execution_count": 4,
   "metadata": {},
   "outputs": [
    {
     "name": "stderr",
     "output_type": "stream",
     "text": [
      "Using TensorFlow backend.\n"
     ]
    }
   ],
   "source": [
    "from sklearn.linear_model import SGDClassifier\n",
    "import pandas as pd\n",
    "\n",
    "import numpy as np\n",
    "import matplotlib.pyplot as plt\n",
    "from keras.utils import to_categorical"
   ]
  },
  {
   "cell_type": "code",
   "execution_count": 51,
   "metadata": {},
   "outputs": [
    {
     "name": "stdout",
     "output_type": "stream",
     "text": [
      "(357, 6) (357,)\n",
      "(40, 6) (40,)\n"
     ]
    }
   ],
   "source": [
    "student_data = pd.read_csv(\"student_data.csv\")\n",
    "student_data['gpa'] /= 4\n",
    "student_data['gre'] /= 800\n",
    "student_values = student_data.values\n",
    "np.random.shuffle(student_values)\n",
    "s_data = student_values[:,1:3]\n",
    "ranks = to_categorical(student_values[:,3]-1)\n",
    "s_data = np.concatenate((s_data, ranks), axis=1)\n",
    "#s_labels = to_categorical(student_data.values[:,0:1])\n",
    "s_labels = student_values[:,0]\n",
    "\n",
    "test_ratio = 0.10\n",
    "\n",
    "threshold = round(s_data.shape[0] * test_ratio)\n",
    "s_train_data, s_train_labels = s_data[:s_data.shape[0]-threshold], s_labels[:s_data.shape[0]-threshold]\n",
    "s_test_data, s_test_labels = s_data[-threshold:], s_labels[-threshold:]\n",
    "print(s_train_data.shape, s_train_labels.shape)\n",
    "print(s_test_data.shape, s_test_labels.shape)"
   ]
  },
  {
   "cell_type": "code",
   "execution_count": 59,
   "metadata": {},
   "outputs": [
    {
     "data": {
      "text/plain": [
       "0.775"
      ]
     },
     "execution_count": 59,
     "metadata": {},
     "output_type": "execute_result"
    }
   ],
   "source": [
    "sgdc = SGDClassifier(max_iter=50000, tol=1e-9, loss='huber', epsilon=5)\n",
    "\n",
    "sgdc.fit(s_train_data,s_train_labels)\n",
    "sgdc.score(s_test_data,s_test_labels)"
   ]
  },
  {
   "cell_type": "code",
   "execution_count": 60,
   "metadata": {},
   "outputs": [
    {
     "data": {
      "text/plain": [
       "0.775"
      ]
     },
     "execution_count": 60,
     "metadata": {},
     "output_type": "execute_result"
    }
   ],
   "source": [
    "sgdc.score(s_test_data,s_test_labels)"
   ]
  }
 ],
 "metadata": {
  "kernelspec": {
   "display_name": "Python 3",
   "language": "python",
   "name": "python3"
  },
  "language_info": {
   "codemirror_mode": {
    "name": "ipython",
    "version": 3
   },
   "file_extension": ".py",
   "mimetype": "text/x-python",
   "name": "python",
   "nbconvert_exporter": "python",
   "pygments_lexer": "ipython3",
   "version": "3.6.5"
  }
 },
 "nbformat": 4,
 "nbformat_minor": 2
}
